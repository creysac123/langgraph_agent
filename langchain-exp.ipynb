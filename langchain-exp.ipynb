{
 "cells": [
  {
   "cell_type": "code",
   "execution_count": 1,
   "metadata": {},
   "outputs": [
    {
     "ename": "KeyError",
     "evalue": "'OPENAI_API_KEY'",
     "output_type": "error",
     "traceback": [
      "\u001b[31m---------------------------------------------------------------------------\u001b[39m",
      "\u001b[31mKeyError\u001b[39m                                  Traceback (most recent call last)",
      "\u001b[36mCell\u001b[39m\u001b[36m \u001b[39m\u001b[32mIn[1]\u001b[39m\u001b[32m, line 4\u001b[39m\n\u001b[32m      2\u001b[39m \u001b[38;5;28;01mfrom\u001b[39;00m\u001b[38;5;250m \u001b[39m\u001b[34;01mdotenv\u001b[39;00m\u001b[38;5;250m \u001b[39m\u001b[38;5;28;01mimport\u001b[39;00m load_dotenv, find_dotenv\n\u001b[32m      3\u001b[39m _ = load_dotenv(find_dotenv())\n\u001b[32m----> \u001b[39m\u001b[32m4\u001b[39m openai_api_key = \u001b[43mos\u001b[49m\u001b[43m.\u001b[49m\u001b[43menviron\u001b[49m\u001b[43m[\u001b[49m\u001b[33;43m\"\u001b[39;49m\u001b[33;43mOPENAI_API_KEY\u001b[39;49m\u001b[33;43m\"\u001b[39;49m\u001b[43m]\u001b[49m\n\u001b[32m      5\u001b[39m TAVILY_API_KEY = os.environ[\u001b[33m\"\u001b[39m\u001b[33mTAVILY_API_KEY\u001b[39m\u001b[33m\"\u001b[39m]\n",
      "\u001b[36mFile \u001b[39m\u001b[32m<frozen os>:679\u001b[39m, in \u001b[36m__getitem__\u001b[39m\u001b[34m(self, key)\u001b[39m\n",
      "\u001b[31mKeyError\u001b[39m: 'OPENAI_API_KEY'"
     ]
    }
   ],
   "source": [
    "import os\n",
    "from dotenv import load_dotenv, find_dotenv\n",
    "_ = load_dotenv(find_dotenv())\n",
    "openai_api_key = os.environ[\"OPENAI_API_KEY\"]\n",
    "TAVILY_API_KEY = os.environ[\"TAVILY_API_KEY\"]"
   ]
  },
  {
   "cell_type": "code",
   "execution_count": 2,
   "metadata": {},
   "outputs": [],
   "source": [
    "from langchain_openai import ChatOpenAI\n",
    "chatModel = ChatOpenAI(model=\"gpt-3.5-turbo-0125\")"
   ]
  },
  {
   "cell_type": "code",
   "execution_count": 3,
   "metadata": {},
   "outputs": [],
   "source": [
    "messages = [\n",
    "    (\"system\", \"You are an expert about python coding\"),\n",
    "    (\"human\", \"Hey i need a python code to generate an cat image\")\n",
    "]"
   ]
  },
  {
   "cell_type": "code",
   "execution_count": 4,
   "metadata": {},
   "outputs": [],
   "source": [
    "response = chatModel.invoke(messages)"
   ]
  },
  {
   "cell_type": "code",
   "execution_count": 5,
   "metadata": {},
   "outputs": [
    {
     "data": {
      "text/plain": [
       "AIMessage(content=\"Generating a cat image programmatically can be quite complex, but you can use libraries like PIL (Pillow) in Python to create a simple image of a cat. Here's a basic example using Pillow to create a simple cat image:\\n\\n```python\\nfrom PIL import Image, ImageDraw\\n\\n# Create a new image with a white background\\nimg = Image.new('RGB', (200, 200), color = 'white')\\ndraw = ImageDraw.Draw(img)\\n\\n# Draw a simple cat face shape\\ndraw.ellipse((50, 50, 150, 150), fill='gray')  # head\\ndraw.ellipse((70, 80, 90, 100), fill='black')  # left eye\\ndraw.ellipse((110, 80, 130, 100), fill='black')  # right eye\\ndraw.arc((70, 100, 130, 140), start=0, end=180, fill='black')  # mouth\\n\\n# Save the image\\nimg.save('cat_image.jpg')\\n\\n# Display the image\\nimg.show()\\n```\\n\\nThis code will generate a simple cat face image with a gray head, black eyes, and a mouth. You can customize and enhance this code to create more detailed and realistic cat images if needed.\", response_metadata={'token_usage': {'completion_tokens': 264, 'prompt_tokens': 29, 'total_tokens': 293, 'completion_tokens_details': {'accepted_prediction_tokens': 0, 'audio_tokens': 0, 'reasoning_tokens': 0, 'rejected_prediction_tokens': 0}, 'prompt_tokens_details': {'audio_tokens': 0, 'cached_tokens': 0}}, 'model_name': 'gpt-3.5-turbo-0125', 'system_fingerprint': None, 'finish_reason': 'stop', 'logprobs': None}, id='run-940f3cf3-b049-4879-97d2-c09b9d0f6354-0', usage_metadata={'input_tokens': 29, 'output_tokens': 264, 'total_tokens': 293})"
      ]
     },
     "execution_count": 5,
     "metadata": {},
     "output_type": "execute_result"
    }
   ],
   "source": [
    "response"
   ]
  },
  {
   "cell_type": "code",
   "execution_count": 7,
   "metadata": {},
   "outputs": [
    {
     "name": "stdout",
     "output_type": "stream",
     "text": [
      "Generating a cat image programmatically can be quite complex, but you can use libraries like PIL (Pillow) in Python to create a simple image of a cat. Here's a basic example using Pillow to create a simple cat image:\n",
      "\n",
      "```python\n",
      "from PIL import Image, ImageDraw\n",
      "\n",
      "# Create a new image with a white background\n",
      "img = Image.new('RGB', (200, 200), color = 'white')\n",
      "draw = ImageDraw.Draw(img)\n",
      "\n",
      "# Draw a simple cat face shape\n",
      "draw.ellipse((50, 50, 150, 150), fill='gray')  # head\n",
      "draw.ellipse((70, 80, 90, 100), fill='black')  # left eye\n",
      "draw.ellipse((110, 80, 130, 100), fill='black')  # right eye\n",
      "draw.arc((70, 100, 130, 140), start=0, end=180, fill='black')  # mouth\n",
      "\n",
      "# Save the image\n",
      "img.save('cat_image.jpg')\n",
      "\n",
      "# Display the image\n",
      "img.show()\n",
      "```\n",
      "\n",
      "This code will generate a simple cat face image with a gray head, black eyes, and a mouth. You can customize and enhance this code to create more detailed and realistic cat images if needed.\n"
     ]
    }
   ],
   "source": [
    "print(response.content)"
   ]
  },
  {
   "cell_type": "code",
   "execution_count": 8,
   "metadata": {},
   "outputs": [
    {
     "data": {
      "text/plain": [
       "{'token_usage': {'completion_tokens': 264,\n",
       "  'prompt_tokens': 29,\n",
       "  'total_tokens': 293,\n",
       "  'completion_tokens_details': {'accepted_prediction_tokens': 0,\n",
       "   'audio_tokens': 0,\n",
       "   'reasoning_tokens': 0,\n",
       "   'rejected_prediction_tokens': 0},\n",
       "  'prompt_tokens_details': {'audio_tokens': 0, 'cached_tokens': 0}},\n",
       " 'model_name': 'gpt-3.5-turbo-0125',\n",
       " 'system_fingerprint': None,\n",
       " 'finish_reason': 'stop',\n",
       " 'logprobs': None}"
      ]
     },
     "execution_count": 8,
     "metadata": {},
     "output_type": "execute_result"
    }
   ],
   "source": [
    "response.response_metadata"
   ]
  },
  {
   "cell_type": "markdown",
   "metadata": {},
   "source": [
    "## Test with Groc models"
   ]
  },
  {
   "cell_type": "code",
   "execution_count": 2,
   "metadata": {},
   "outputs": [],
   "source": [
    "from langchain_groq import ChatGroq"
   ]
  },
  {
   "cell_type": "code",
   "execution_count": 3,
   "metadata": {},
   "outputs": [],
   "source": [
    "model = ChatGroq(model=\"mixtral-8x7b-32768\")"
   ]
  },
  {
   "cell_type": "code",
   "execution_count": 4,
   "metadata": {},
   "outputs": [],
   "source": [
    "messages = [\n",
    "    (\"system\", \"You are an expert about python coding\"),\n",
    "    (\"human\", \"Hey i need a python code to generate an cat image\")\n",
    "]"
   ]
  },
  {
   "cell_type": "code",
   "execution_count": 5,
   "metadata": {},
   "outputs": [],
   "source": [
    "response = model.invoke(messages)"
   ]
  },
  {
   "cell_type": "code",
   "execution_count": 6,
   "metadata": {},
   "outputs": [
    {
     "name": "stdout",
     "output_type": "stream",
     "text": [
      "I'm glad you reached out to me for help with your Python code! However, I think there might be a slight misunderstanding. While I can certainly assist you with writing Python code to generate an image, I'm afraid I can't create a cat image for you.\n",
      "\n",
      "That being said, here's an example of how you could use Python to generate a simple cat image using the `PIL` library:\n",
      "```python\n",
      "from PIL import Image, ImageDraw\n",
      "\n",
      "# create a new image with a white background\n",
      "img = Image.new('RGB', (200, 200), (255, 255, 255))\n",
      "\n",
      "# create a drawing object to draw on the image\n",
      "draw = ImageDraw.Draw(img)\n",
      "\n",
      "# draw the cat's head\n",
      "draw.ellipse((50, 50, 150, 150), fill='gray')\n",
      "\n",
      "# draw the cat's ears\n",
      "draw.polygon([(75, 50), (100, 25), (125, 50)], fill='gray')\n",
      "draw.polygon([(75, 150), (100, 175), (125, 150)], fill='gray')\n",
      "\n",
      "# draw the cat's eyes\n",
      "draw.ellipse((85, 75, 115, 95), fill='black')\n",
      "draw.ellipse((85, 105, 115, 125), fill='black')\n",
      "\n",
      "# draw the cat's nose\n",
      "draw.polygon([(100, 115), (105, 120), (110, 115)], fill='black')\n",
      "\n",
      "# save the image to a file\n",
      "img.save('cat.png')\n",
      "```\n",
      "This code creates a new image with a white background, and then uses the `ImageDraw` module to draw a simple cat face on top of it. The cat's head is drawn as an ellipse, and its ears are drawn as triangles. The cat's eyes are drawn as smaller ellipses, and its nose is drawn as a small triangle.\n",
      "\n",
      "You can customize this code to create a more detailed or stylized cat image if you like. For example, you could add whiskers, a mouth, or other features to the cat's face. You could also experiment with different shapes and colors to create a unique look.\n",
      "\n",
      "I hope this helps you get started with generating cat images in Python! Let me know if you have any other questions.\n"
     ]
    }
   ],
   "source": [
    "print(response.content)"
   ]
  },
  {
   "cell_type": "code",
   "execution_count": 7,
   "metadata": {},
   "outputs": [],
   "source": [
    "messages = [\n",
    "    (\"system\", \"You are an expert\"),\n",
    "    (\"human\", \"tell me about 2025 LA wildfire updates\")\n",
    "]"
   ]
  },
  {
   "cell_type": "code",
   "execution_count": 8,
   "metadata": {},
   "outputs": [],
   "source": [
    "response = model.invoke(messages)"
   ]
  },
  {
   "cell_type": "code",
   "execution_count": 9,
   "metadata": {},
   "outputs": [
    {
     "data": {
      "text/plain": [
       "AIMessage(content='I must clarify that I am an AI language model and do not have the ability to predict the future or have real-time information. However, I can provide some general information about what experts might expect when it comes to wildfires in Los Angeles in 2025, based on current trends and scientific research.\\n\\n1. Climate change: According to climate models, we can expect that global warming will continue to impact wildfire risk in California. This means that temperatures will be higher, leading to longer and more intense fire seasons.\\n\\n2. Increased risk: Due to the combination of hotter and drier conditions, experts predict that the risk of wildfires in Los Angeles and the surrounding areas will increase in the coming years. This includes both the frequency and severity of wildfires.\\n\\n3. Urban development: As urban development continues in wildland-urban interface areas, the risk of wildfires affecting populated areas will also increase. This is because homes and other structures provide more fuel for fires and can make them more difficult to control.\\n\\n4. Adaptation and mitigation strategies: To address the increasing risk of wildfires, local governments, communities, and individuals will need to implement adaptation and mitigation strategies. These might include improving building codes, creating more defensible space around structures, implementing fuel management techniques, and improving emergency response plans.\\n\\n5. Technology and data: Advances in technology and data analysis can help with wildfire prediction, detection, and response. This includes the use of satellite imagery, drones, artificial intelligence, and machine learning to monitor conditions and predict wildfire behavior.\\n\\nAgain, these are general trends and predictions based on current knowledge. The actual wildfire situation in 2025 could be different due to a variety of factors, including changes in climate, land use, and human behavior.', response_metadata={'token_usage': {'completion_tokens': 393, 'prompt_tokens': 23, 'total_tokens': 416, 'completion_time': 0.605246721, 'prompt_time': 0.002546188, 'queue_time': 0.233036627, 'total_time': 0.607792909}, 'model_name': 'mixtral-8x7b-32768', 'system_fingerprint': 'fp_c5f20b5bb1', 'finish_reason': 'stop', 'logprobs': None}, id='run-0b2b57c3-666b-4885-93e9-b28801495550-0', usage_metadata={'input_tokens': 23, 'output_tokens': 393, 'total_tokens': 416})"
      ]
     },
     "execution_count": 9,
     "metadata": {},
     "output_type": "execute_result"
    }
   ],
   "source": [
    "response"
   ]
  },
  {
   "cell_type": "markdown",
   "metadata": {},
   "source": [
    "## Tavily Search tool"
   ]
  },
  {
   "cell_type": "code",
   "execution_count": 15,
   "metadata": {},
   "outputs": [],
   "source": [
    "import os\n",
    "import dotenv\n",
    "load_dotenv()\n",
    "GROQ_API_KEY = os.getenv(\"GROQ_API_KEY\")\n",
    "TAVILY_API_KEY = os.getenv(\"TAVILY_API_KEY\")"
   ]
  },
  {
   "cell_type": "code",
   "execution_count": 16,
   "metadata": {},
   "outputs": [
    {
     "data": {
      "text/plain": [
       "[{'url': 'https://en.wikipedia.org/wiki/January_2025_Southern_California_wildfires',\n",
       "  'content': 'From January\\xa07 to 31, 2025, a series of 14 destructive wildfires affected the Los Angeles metropolitan area and San Diego County in California, United States.[5] The fires were exacerbated by drought conditions, low humidity, a buildup of vegetation from the previous winter, and hurricane-force Santa Ana winds, which in some places reached 100 miles per hour (160\\xa0km/h; 45\\xa0m/s). On January\\xa06, California governor Gavin Newsom stated he would assign 65 fire engines, 7 helicopters, 7 water tenders, and 109 workers to fighting wildfires that arose.[35] Mayor of Los Angeles Karen Bass warned residents that the windstorm could become one of the harshest in more than a decade, and cautioned them to avoid wind-downed power lines.[73] As Bass was out of the country for the inauguration of Ghanaian president John Mahama,[74] Council President Marqueece Harris-Dawson filled in as acting mayor.[75]'},\n",
       " {'url': 'https://www.wri.org/insights/los-angeles-fires-january-2025-explained',\n",
       "  'content': 'Graphic showing over 200 fire alerts in Los Angeles between January and February 2025. In California, wildfire season typically starts in'},\n",
       " {'url': 'https://www.ca.gov/lafires/',\n",
       "  'content': 'Official California website California government websites use .ca.gov A .ca.gov website is part of California’s government. About California Get help Help and info for people affected by the wildfires Get help online Get help in person Help your business Businesses affected by the fires can get tax relief and extensions. Give time or money to help people affected by the fires. Help us improve Governor Newsom suspended permit and review requirements under the California Environmental Quality Act (CEQA) and the California Coastal Act. This allows victims of the recent fires to restore their homes and businesses faster. On January 8, California got a Major Disaster Declaration for the California wildfires. About this website State careers California data © 2025 State of California'}]"
      ]
     },
     "execution_count": 16,
     "metadata": {},
     "output_type": "execute_result"
    }
   ],
   "source": [
    "from langchain_community.tools.tavily_search import TavilySearchResults\n",
    "search = TavilySearchResults(max_results=3)\n",
    "search.invoke(\"tell me about 2025 LA wildfire updates\")"
   ]
  },
  {
   "cell_type": "code",
   "execution_count": 19,
   "metadata": {},
   "outputs": [
    {
     "name": "stdout",
     "output_type": "stream",
     "text": [
      "📄 Summary of News:\n",
      "\n",
      "* From Jan 7 to 31, 2025, destructive wildfires hit Los Angeles and San Diego, California.\n",
      "* Causes include drought, low humidity, vegetation buildup, and Santa Ana winds (up to 100 mph).\n",
      "* California Governor Gavin Newsom deployed 65 fire engines, 7 helicopters, and 109 workers to fight wildfires.\n",
      "* Los Angeles Mayor Karen Bass warned residents about potential windstorm hazards.\n",
      "* Council President Marqueece Harris-Dawson served as acting mayor in Bass's absence.\n",
      "* California government websites use .ca.gov; resources are available for those affected by the wildfires.\n",
      "* Governor Newsom suspended permit and review requirements for fire victims to rebuild faster.\n",
      "* California received a Major Disaster Declaration for the wildfires on Jan 8.\n",
      "* Fire activity decreases seasonally, but CAL FIRE remains vigilant with ongoing elevated fire risk.\n",
      "* CAL FIRE staff will work on fuel reduction and fire prevention projects during this period.\n"
     ]
    }
   ],
   "source": [
    "from langchain_community.tools.tavily_search import TavilySearchResults\n",
    "from langchain_groq import ChatGroq\n",
    "\n",
    "def summarize_tavily_search_pointwise(query, max_results=3):\n",
    "    # Step 1: Tavily Search\n",
    "    search = TavilySearchResults(max_results=max_results)\n",
    "    results = search.invoke(query)\n",
    "\n",
    "    # Step 2: Combine content\n",
    "    combined_content = \"\\n\\n\".join([doc[\"content\"] for doc in results])\n",
    "\n",
    "    # Step 3: Initialize your ChatGroq model (Mixtral)\n",
    "    llm = ChatGroq(model=\"mixtral-8x7b-32768\")\n",
    "\n",
    "    # Step 4: Ask for pointwise summary\n",
    "    prompt = f\"\"\"\n",
    "You are a helpful assistant. Summarize the below content in 6-8 clean bullet points (pointwise summary), in simple, clear language. Keep it between 100 and 150 words.\n",
    "\n",
    "Content:\n",
    "{combined_content}\n",
    "\"\"\"\n",
    "    response = llm.invoke(prompt)\n",
    "\n",
    "    # Step 5: Extract clean text (remove metadata, if any)\n",
    "    if hasattr(response, 'content'):\n",
    "        return response.content.strip()\n",
    "    elif isinstance(response, str):\n",
    "        return response.strip()\n",
    "    else:\n",
    "        return str(response)\n",
    "\n",
    "# 👉 Usage\n",
    "summary = summarize_tavily_search_pointwise(\"2025 LA wildfire updates\")\n",
    "print(\"📄 Summary of News:\\n\")\n",
    "print(summary)\n"
   ]
  },
  {
   "cell_type": "code",
   "execution_count": null,
   "metadata": {},
   "outputs": [],
   "source": []
  }
 ],
 "metadata": {
  "kernelspec": {
   "display_name": "llmapp",
   "language": "python",
   "name": "python3"
  },
  "language_info": {
   "codemirror_mode": {
    "name": "ipython",
    "version": 3
   },
   "file_extension": ".py",
   "mimetype": "text/x-python",
   "name": "python",
   "nbconvert_exporter": "python",
   "pygments_lexer": "ipython3",
   "version": "3.11.11"
  }
 },
 "nbformat": 4,
 "nbformat_minor": 2
}
