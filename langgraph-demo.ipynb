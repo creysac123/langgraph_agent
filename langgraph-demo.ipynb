{
 "cells": [
  {
   "cell_type": "code",
   "execution_count": 1,
   "metadata": {},
   "outputs": [],
   "source": [
    "import os\n",
    "from dotenv import load_dotenv, find_dotenv\n",
    "_ = load_dotenv(find_dotenv())\n",
    "groq_api_key = os.environ[\"GROQ_API_KEY\"]\n",
    "TAVILY_API_KEY = os.environ[\"TAVILY_API_KEY\"]"
   ]
  },
  {
   "cell_type": "code",
   "execution_count": 2,
   "metadata": {},
   "outputs": [],
   "source": [
    "os.environ[\"TAVILY_API_KEY\"] = TAVILY_API_KEY"
   ]
  },
  {
   "cell_type": "code",
   "execution_count": 78,
   "metadata": {},
   "outputs": [],
   "source": [
    "from langchain_groq import ChatGroq\n",
    "llm = ChatGroq(model=\"mixtral-8x7b-32768\")"
   ]
  },
  {
   "cell_type": "code",
   "execution_count": 86,
   "metadata": {},
   "outputs": [
    {
     "data": {
      "text/plain": [
       "[{'url': 'https://recovery.lacounty.gov/2025/01/17/wildfire-update-january-17-2025/',\n",
       "  'content': 'Wildfire Update – January 17, 2025 · Structures Threatened: 14,518 · Structures Damaged: 805 · Structures Destroyed: 7,193 · Structures Threatened:'},\n",
       " {'url': 'https://www.allhandsandhearts.org/storm-tracker/los-angeles-california-wildfires-january-2025/',\n",
       "  'content': 'In total, the Los Angeles wildfires continue to rage over 35,000 acres burned and over 10,000 structures destroyed (CAL FIRE). January 10, 2025 - 14:30 (EST) -'},\n",
       " {'url': 'https://en.wikipedia.org/wiki/January_2025_Southern_California_wildfires',\n",
       "  'content': 'From January\\xa07 to 31, 2025, a series of 14 destructive wildfires affected the Los Angeles metropolitan area and San Diego County in California, United States.[5] The fires were exacerbated by drought conditions, low humidity, a buildup of vegetation from the previous winter, and hurricane-force Santa Ana winds, which in some places reached 100 miles per hour (160\\xa0km/h; 45\\xa0m/s). On January\\xa06, California governor Gavin Newsom stated he would assign 65 fire engines, 7 helicopters, 7 water tenders, and 109 workers to fighting wildfires that arose.[35] Mayor of Los Angeles Karen Bass warned residents that the windstorm could become one of the harshest in more than a decade, and cautioned them to avoid wind-downed power lines.[73] As Bass was out of the country for the inauguration of Ghanaian president John Mahama,[74] Council President Marqueece Harris-Dawson filled in as acting mayor.[75]'},\n",
       " {'url': 'https://www.ca.gov/lafires/',\n",
       "  'content': 'Official California website California government websites use .ca.gov A .ca.gov website is part of California’s government. About California Get help Help and info for people affected by the wildfires Get help online Get help in person Help your business Businesses affected by the fires can get tax relief and extensions. Give time or money to help people affected by the fires. Help us improve Governor Newsom suspended permit and review requirements under the California Environmental Quality Act (CEQA) and the California Coastal Act. This allows victims of the recent fires to restore their homes and businesses faster. On January 8, California got a Major Disaster Declaration for the California wildfires. About this website State careers California data © 2025 State of California'},\n",
       " {'url': 'https://www.fire.ca.gov/incidents/2025',\n",
       "  'content': \"Incidents Incidents 2025 Incidents This adjustment aligns with a seasonal decrease in fire activity and aims to strategically optimize resources as fire risks lessen during the cooler months.Although California experienced a higher-than-usual number of fires this year, total acreage burned remains slightly below the five-year average but exceeds last year's figures. Southern California remains the exception, where some heightened fire risk may persist.Despite these seasonal shifts, CAL FIRE remains vigilant and prepared to respond to any challenges posed by the ongoing elevated fire risk.The resources that CAL FIRE staffs year-round will spend these months engaged in fuel reduction projects and other fire prevention efforts as weather permits.Pictured: a CAL FIRE fire fighter igniting grass during the Forebay VMP burn. 2024 Incidents\"}]"
      ]
     },
     "execution_count": 86,
     "metadata": {},
     "output_type": "execute_result"
    }
   ],
   "source": [
    "from langchain_community.tools.tavily_search import TavilySearchResults\n",
    "search = TavilySearchResults(max_results=5)\n",
    "search.invoke(\"tell me about 2025 LA wildfire updates\")"
   ]
  },
  {
   "cell_type": "code",
   "execution_count": 87,
   "metadata": {},
   "outputs": [],
   "source": [
    "tools = [search]"
   ]
  },
  {
   "cell_type": "code",
   "execution_count": 88,
   "metadata": {},
   "outputs": [
    {
     "data": {
      "text/plain": [
       "[TavilySearchResults()]"
      ]
     },
     "execution_count": 88,
     "metadata": {},
     "output_type": "execute_result"
    }
   ],
   "source": [
    "tools"
   ]
  },
  {
   "cell_type": "code",
   "execution_count": 93,
   "metadata": {},
   "outputs": [
    {
     "name": "stdout",
     "output_type": "stream",
     "text": [
      "\n",
      "\n",
      "\u001b[1m> Entering new AgentExecutor chain...\u001b[0m\n",
      "\u001b[32;1m\u001b[1;3mI need to find information about Rachin Ravindra's eye injury.\n",
      "\n",
      "Action: tavily_search_results_json\n",
      "\n",
      "Action Input: Rachin Ravindra eye injury\n",
      "\u001b[0m\n",
      "Observation: \u001b[36;1m\u001b[1;3m[{'url': 'https://www.instagram.com/upscworldofficial/p/DF0jsB3tbBc/', 'content': 'New Zealand cricketer Rachin Ravindra suffered an injury near his eye while attempting a catch against Pakistan.'}, {'url': 'https://sports.ndtv.com/cricket/pakistan-puts-blame-back-on-rachin-ravindra-over-nasty-head-injury-despite-floodlights-issue-7683652', 'content': 'New Zealand cricketer Rachin Ravindra incurred a nasty head injury during an ODI match against Pakistan at the Gaddafi Stadium in Lahore.'}, {'url': 'https://www.arabnews.com/node/2589539/sport', 'content': \"LAHORE: New Zealand's Rachin Ravindra suffered a sickening blow to the head after he appeared to misjudge a catch during his team's ODI\"}, {'url': 'https://www.indiatoday.in/sports/story/cricket-rachin-ravindra-gets-brutally-injured-leaves-field-bleeding-profusely-vs-pakistan-2677031-2025-02-09', 'content': 'Following the impact, Ravindra immediately fell on the ground and was seen bleeding profusely near his eye. He was immediately taken off the'}, {'url': 'https://timesofindia.indiatimes.com/sports/cricket/news/poor-lights-of-gaddafi-stadium-pakistan-cricket-board-faces-backlash-after-rachin-ravindra-injury/articleshow/118080050.cms', 'content': 'Misjudging the trajectory of the ball under the lights, Ravindra was struck in the face, leading to immediate medical intervention as he was'}]\u001b[0m\n",
      "Thought:\u001b[32;1m\u001b[1;3mRachin Ravindra, a New Zealand cricketer, suffered an eye injury during an ODI match against Pakistan at the Gaddafi Stadium in Lahore. The injury occurred when Ravindra attempted a catch and misjudged the ball's trajectory under the stadium lights. This impact led to a nasty head injury, causing him to bleed profusely near his eye. He was immediately taken off the field for medical attention. The incident has sparked criticism regarding the floodlights at the Gaddafi Stadium.\n",
      "\n",
      "Final Answer:\n",
      "- Rachin Ravindra, a New Zealand cricketer, suffered an eye injury during a match against Pakistan.\n",
      "- The injury occurred while attempting a catch and misjudging the ball's trajectory under the stadium lights.\n",
      "- Ravindra was taken off the field immediately for medical attention due to the severity of the injury.\n",
      "- The incident has led to criticism of the Gaddafi Stadium's floodlights.\u001b[0m\n",
      "\n",
      "\u001b[1m> Finished chain.\u001b[0m\n",
      "\n",
      "Response:\n",
      "\n",
      "- Rachin Ravindra, a New Zealand cricketer, suffered an eye injury during a match against Pakistan.\n",
      "- The injury occurred while attempting a catch and misjudging the ball's trajectory under the stadium lights.\n",
      "- Ravindra was taken off the field immediately for medical attention due to the severity of the injury.\n",
      "- The incident has led to criticism of the Gaddafi Stadium's floodlights.\n"
     ]
    }
   ],
   "source": [
    "from langchain.agents import Tool\n",
    "from langchain.agents import initialize_agent\n",
    "from langchain.agents.agent_types import AgentType\n",
    "\n",
    "# Assuming tools and llm are already defined\n",
    "agent = initialize_agent(\n",
    "    tools=tools,\n",
    "    llm=llm,\n",
    "    agent=AgentType.ZERO_SHOT_REACT_DESCRIPTION,\n",
    "    verbose=True\n",
    ")\n",
    "\n",
    "# Take user input\n",
    "user_query = input(\"Enter your query: \")\n",
    "\n",
    "# Add formatting constraint to user query\n",
    "formatted_query = (\n",
    "    f\"{user_query}\\n\\n\"\n",
    "    \"Please provide your answer in clear bullet points (• or -), \"\n",
    "    \"limit the total response to around 150 words. \"\n",
    "    \"Keep it concise, informative, and structured.\"\n",
    ")\n",
    "\n",
    "# Run agent with formatted query\n",
    "response = agent.run(formatted_query)\n",
    "print(\"\\nResponse:\\n\")\n",
    "print(response)\n"
   ]
  },
  {
   "cell_type": "code",
   "execution_count": 82,
   "metadata": {},
   "outputs": [
    {
     "name": "stdout",
     "output_type": "stream",
     "text": [
      "<class 'pydantic.v1.main.LangGraphInput'>\n"
     ]
    }
   ],
   "source": [
    "from langgraph.prebuilt.chat_agent_executor import LangGraphInput\n"
   ]
  },
  {
   "cell_type": "code",
   "execution_count": 60,
   "metadata": {},
   "outputs": [
    {
     "name": "stdout",
     "output_type": "stream",
     "text": [
      "content='In January 2025, a series of 14 destructive wildfires affected the Los Angeles metropolitan area and San Diego County in California, causing loss of lives, destruction of homes and businesses, and displacement of families. The wildfires were caused by drought conditions, low humidity, accumulation of vegetation, and hurricane-force Santa Ana winds, which reached up to 100 miles per hour. California Governor Gavin Newsom allocated resources, including 65 fire engines, 7 helicopters, 7 water tenders, and 109 workers, to combat the wildfires. Mayor of Los Angeles Karen Bass warned residents of the harsh windstorm and advised them to avoid downed power lines. Due to the disaster, businesses affected by the fires can receive tax relief and extensions, and victims can restore their homes and businesses faster as permit and review requirements under the California Environmental Quality Act and the California Coastal Act were suspended. On January 8, California received a Major Disaster Declaration for the wildfires.' response_metadata={'token_usage': {'completion_tokens': 224, 'prompt_tokens': 487, 'total_tokens': 711, 'completion_time': 0.345097462, 'prompt_time': 0.025555611, 'queue_time': 0.234462513, 'total_time': 0.370653073}, 'model_name': 'mixtral-8x7b-32768', 'system_fingerprint': 'fp_c5f20b5bb1', 'finish_reason': 'stop', 'logprobs': None} id='run-e9885401-151d-42e8-bb70-72b734a362ee-0' usage_metadata={'input_tokens': 487, 'output_tokens': 224, 'total_tokens': 711}\n"
     ]
    }
   ],
   "source": [
    "search_results = search.invoke(\"2025 LA wildfire updates\")\n",
    "web_content = \"\\n\\n\".join([res.get('content', '').strip() for res in search_results if res.get('content')])\n",
    "\n",
    "summary = llm.invoke(f\"\"\"You are a wildfire monitoring assistant.\n",
    "\n",
    "Below is the latest web content about Los Angeles wildfires. Summarize key points.\n",
    "\n",
    "Web Content:\n",
    "{web_content}\n",
    "\"\"\")\n",
    "\n",
    "print(summary)\n"
   ]
  },
  {
   "cell_type": "markdown",
   "metadata": {},
   "source": [
    "## Adding memory\n",
    "* Adding memory in LangGraph is very similar to what we did with LangChain."
   ]
  },
  {
   "cell_type": "code",
   "execution_count": 94,
   "metadata": {},
   "outputs": [],
   "source": [
    "from langgraph.checkpoint.memory import MemorySaver\n",
    "memory = MemorySaver()"
   ]
  },
  {
   "cell_type": "code",
   "execution_count": 16,
   "metadata": {},
   "outputs": [],
   "source": [
    "agent_executor = create_react_agent(llm, tools, checkpointer=memory)"
   ]
  },
  {
   "cell_type": "code",
   "execution_count": 17,
   "metadata": {},
   "outputs": [],
   "source": [
    "config = {\"configurable\": {\"thread_id\": \"001\"}}"
   ]
  },
  {
   "cell_type": "code",
   "execution_count": 24,
   "metadata": {},
   "outputs": [
    {
     "name": "stdout",
     "output_type": "stream",
     "text": [
      "{'agent': {'messages': [AIMessage(content='', additional_kwargs={'tool_calls': [{'id': 'call_UEgG16mvYiSPrP2eCTKcIkYZ', 'function': {'arguments': '{\"query\":\"2024 soccer Eurocup winner\"}', 'name': 'tavily_search_results_json'}, 'type': 'function'}]}, response_metadata={'token_usage': {'completion_tokens': 24, 'prompt_tokens': 91, 'total_tokens': 115, 'completion_tokens_details': {'accepted_prediction_tokens': 0, 'audio_tokens': 0, 'reasoning_tokens': 0, 'rejected_prediction_tokens': 0}, 'prompt_tokens_details': {'audio_tokens': 0, 'cached_tokens': 0}}, 'model_name': 'gpt-3.5-turbo-0125', 'system_fingerprint': None, 'finish_reason': 'tool_calls', 'logprobs': None}, id='run-c91979be-03ad-4840-98df-fba9130d4d43-0', tool_calls=[{'name': 'tavily_search_results_json', 'args': {'query': '2024 soccer Eurocup winner'}, 'id': 'call_UEgG16mvYiSPrP2eCTKcIkYZ', 'type': 'tool_call'}], usage_metadata={'input_tokens': 91, 'output_tokens': 24, 'total_tokens': 115})]}}\n",
      "----\n",
      "{'tools': {'messages': [ToolMessage(content='[{\"url\": \"https://www.sportingnews.com/us/soccer/news/who-won-euro-2024-spain-england-oyarzabal/19ab0b3bf663194bc5193e50\", \"content\": \"Spain won the 2024 European Championship, becoming the first team to lift the trophy four times, beating England 2-1 thanks to a late winner from Mikel Oyarzabal.\"}, {\"url\": \"https://en.wikipedia.org/wiki/UEFA_Euro_2024_Final\", \"content\": \"The UEFA Euro 2024 final was a football match that determined the winners of UEFA Euro 2024.The match was the seventeenth final of the European Championship, a quadrennial tournament contested by the men\\'s national teams of the member associations of UEFA to decide the champions of Europe. The match was held at the Olympiastadion in Berlin, Germany, on 14 July 2024, and was contested by Spain\"}, {\"url\": \"https://www.cnn.com/2024/07/14/sport/spain-england-euro-2024-final-spt-intl/index.html\", \"content\": \"Spain won a record-breaking fourth European Championship, defeating England 2-1 following a drama-filled second half in the Euro 2024 final on Sunday in Berlin.\"}]', name='tavily_search_results_json', tool_call_id='call_UEgG16mvYiSPrP2eCTKcIkYZ')]}}\n",
      "----\n",
      "{'agent': {'messages': [AIMessage(content=\"Spain won the 2024 European Championship, defeating England 2-1 in the final. This victory marked Spain's fourth European Championship win, with Mikel Oyarzabal scoring the late winner.\", response_metadata={'token_usage': {'completion_tokens': 43, 'prompt_tokens': 407, 'total_tokens': 450, 'completion_tokens_details': {'accepted_prediction_tokens': 0, 'audio_tokens': 0, 'reasoning_tokens': 0, 'rejected_prediction_tokens': 0}, 'prompt_tokens_details': {'audio_tokens': 0, 'cached_tokens': 0}}, 'model_name': 'gpt-3.5-turbo-0125', 'system_fingerprint': None, 'finish_reason': 'stop', 'logprobs': None}, id='run-db354391-ff6e-42a9-94be-98c53152f3c1-0', usage_metadata={'input_tokens': 407, 'output_tokens': 43, 'total_tokens': 450})]}}\n",
      "----\n"
     ]
    }
   ],
   "source": [
    "for chunk in agent_executor.stream(\n",
    "    {\"messages\": [HumanMessage(content=\"Who won the 2024 soccer Eurocup?\")]}, config\n",
    "):\n",
    "    print(chunk)\n",
    "    print(\"----\")"
   ]
  },
  {
   "cell_type": "code",
   "execution_count": 26,
   "metadata": {},
   "outputs": [
    {
     "name": "stdout",
     "output_type": "stream",
     "text": [
      "{'agent': {'messages': [AIMessage(content='', additional_kwargs={'tool_calls': [{'id': 'call_m0tbNUOYWsEkJ32B9ZsATvCw', 'function': {'arguments': '{\"query\":\"top stars of the winning team\"}', 'name': 'tavily_search_results_json'}, 'type': 'function'}]}, response_metadata={'token_usage': {'completion_tokens': 24, 'prompt_tokens': 91, 'total_tokens': 115, 'completion_tokens_details': {'accepted_prediction_tokens': 0, 'audio_tokens': 0, 'reasoning_tokens': 0, 'rejected_prediction_tokens': 0}, 'prompt_tokens_details': {'audio_tokens': 0, 'cached_tokens': 0}}, 'model_name': 'gpt-3.5-turbo-0125', 'system_fingerprint': None, 'finish_reason': 'tool_calls', 'logprobs': None}, id='run-1d2de8a4-0276-41e9-9be3-b5166f83ffc4-0', tool_calls=[{'name': 'tavily_search_results_json', 'args': {'query': 'top stars of the winning team'}, 'id': 'call_m0tbNUOYWsEkJ32B9ZsATvCw', 'type': 'tool_call'}], usage_metadata={'input_tokens': 91, 'output_tokens': 24, 'total_tokens': 115})]}}\n",
      "----\n",
      "{'tools': {'messages': [ToolMessage(content='[{\"url\": \"https://www.foxnews.com/sports/ohio-state-stars-praise-god-after-winning-college-football-national-title\", \"content\": \"Ohio State Buckeyes stars Will Howard and Jack Sawyer gave praise to God on Monday night following their college football national championship victory over the Notre Dame Fighting Irish. Howard\"}, {\"url\": \"https://hoopshype.com/lists/the-most-star-studded-teams-ever-in-nba-history/\", \"content\": \"We\\'ve looked at the Top 40 teams in NBA history based on All-Star and All-NBA selections and found that o nly 14 of them went on to win the Larry O\\'Brien trophy; out of the Top 10 star-studded\"}, {\"url\": \"https://www.elevenwarriors.com/ohio-state-football/2025/01/153193/three-stars-of-the-game-will-howard-quinshon-judkins-and-jeremiah-smith-earn-top-honors-for-their-performances-in-the-national-championship-game\", \"content\": \"Second Star: Quinshon Judkins Judkins was a complete back and then some against Notre Dame. The talented ball carrier ran for 100 yards on 11 carries and rushed for two touchdowns, and also caught\"}]', name='tavily_search_results_json', tool_call_id='call_m0tbNUOYWsEkJ32B9ZsATvCw')]}}\n",
      "----\n",
      "{'agent': {'messages': [AIMessage(content=\"The top stars of the winning team were Will Howard, Jack Sawyer, Quinshon Judkins, and Jeremiah Smith. They played a significant role in their team's victory.\", response_metadata={'token_usage': {'completion_tokens': 38, 'prompt_tokens': 392, 'total_tokens': 430, 'completion_tokens_details': {'accepted_prediction_tokens': 0, 'audio_tokens': 0, 'reasoning_tokens': 0, 'rejected_prediction_tokens': 0}, 'prompt_tokens_details': {'audio_tokens': 0, 'cached_tokens': 0}}, 'model_name': 'gpt-3.5-turbo-0125', 'system_fingerprint': None, 'finish_reason': 'stop', 'logprobs': None}, id='run-7673a516-6b0b-427a-9d6a-812f3b86bd68-0', usage_metadata={'input_tokens': 392, 'output_tokens': 38, 'total_tokens': 430})]}}\n",
      "----\n"
     ]
    }
   ],
   "source": [
    "for chunk in agent_executor.stream(\n",
    "    {\"messages\": [HumanMessage(content=\"Who were the top stars of that winner team?\")]}, config\n",
    "):\n",
    "    print(chunk)\n",
    "    print(\"----\")"
   ]
  },
  {
   "cell_type": "code",
   "execution_count": 28,
   "metadata": {},
   "outputs": [
    {
     "name": "stdout",
     "output_type": "stream",
     "text": [
      "{'agent': {'messages': [AIMessage(content='You mentioned the soccer team \"Manchester United\" in our previous conversation. Would you like me to provide more information about them?', response_metadata={'token_usage': {'completion_tokens': 27, 'prompt_tokens': 89, 'total_tokens': 116, 'completion_tokens_details': {'accepted_prediction_tokens': 0, 'audio_tokens': 0, 'reasoning_tokens': 0, 'rejected_prediction_tokens': 0}, 'prompt_tokens_details': {'audio_tokens': 0, 'cached_tokens': 0}}, 'model_name': 'gpt-3.5-turbo-0125', 'system_fingerprint': None, 'finish_reason': 'stop', 'logprobs': None}, id='run-b9fdab43-09da-4e58-9b4e-caff79772e3d-0', usage_metadata={'input_tokens': 89, 'output_tokens': 27, 'total_tokens': 116})]}}\n",
      "----\n"
     ]
    }
   ],
   "source": [
    "config = {\"configurable\": {\"thread_id\": \"001\"}}\n",
    "for chunk in agent_executor.stream(\n",
    "    {\"messages\": [HumanMessage(content=\"About what soccer team we were talking?\")]}, config\n",
    "):\n",
    "    print(chunk)\n",
    "    print(\"----\")"
   ]
  },
  {
   "cell_type": "code",
   "execution_count": 115,
   "metadata": {},
   "outputs": [
    {
     "name": "stdout",
     "output_type": "stream",
     "text": [
      "\n",
      "\n",
      "\u001b[1m> Entering new AgentExecutor chain...\u001b[0m\n",
      "\u001b[32;1m\u001b[1;3mThought: The user seems to be interested in India's cricket trophy wins. I should provide a brief and concise response summarizing India's recent cricket trophy victories.\n",
      "\n",
      "Action: tavily_search_results_json\n",
      "Action Input: \"India cricket trophy wins 2020-2025\"\n",
      "\u001b[0m\n",
      "Observation: \u001b[36;1m\u001b[1;3m[{'url': 'https://www.youtube.com/watch?v=2tgLmSrM2oQ', 'content': 'India is the ICC Champions Trophy 2025 winner. During the grand final in Dubai on Sunday, India beat New Zealand by four wickets to clinch'}, {'url': 'https://indianexpress.com/article/sports/cricket/champions-trophy-winners-list-india-near-record-third-title-in-2025-final-against-new-zealand-9877709/', 'content': 'Champions Trophy winners list: India win record 3rd title in 2025 final against New Zealand | Cricket News - The Indian Express.'}, {'url': 'https://sportstar.thehindu.com/cricket/champions-trophy/india-full-list-of-icc-title-wins-results-by-year-champions-trophy-2025-final-ind-vs-new-zealand/article69310944.ece', 'content': 'India clinched its seventh ICC title win after beating New Zealand in the final of Champions Trophy 2025 in Dubai on Sunday.'}, {'url': 'https://indianexpress.com/article/sports/cricket/india-win-champions-trophy-2025-rohit-sharma-record-3rd-title-nz-dubai-9877691/', 'content': 'India on Sunday ended a 12-year wait to clinch a record-extending third Champions Trophy title, beating New Zealand by 4 wickets in the CT 2025'}, {'url': 'https://en.wikipedia.org/wiki/India_national_cricket_team', 'content': \"India have won the ICC Men's T20 World Cup twice in 2007 and 2024. They have also won the Twenty20 Asia Cup in 2016 and gold medal at the Asian Games in 2022.\"}]\u001b[0m\n",
      "Thought:\u001b[32;1m\u001b[1;3mBased on the search results, I can see that India has had several significant cricket trophy wins recently. Here are the key points:\n",
      "\n",
      "- India won the ICC Champions Trophy in 2025 by defeating New Zealand in the final.\n",
      "- This was India's third Champions Trophy title, extending their record.\n",
      "- The match was held in Dubai, and India won by four wickets.\n",
      "- Apart from this, India has also recently won the ICC T20 World Cup twice, in 2007 and 2024.\n",
      "- They have also won the Twenty20 Asia Cup in 2016 and a gold medal at the Asian Games in 2022.\n",
      "\n",
      "Final Answer: • India won the ICC Champions Trophy in 2025.\n",
      "• They have also won the ICC T20 World Cup twice, in 2007 and 2024.\n",
      "• India has also won the Twenty20 Asia Cup in 2016 and a gold medal at the Asian Games in 2022.\u001b[0m\n",
      "\n",
      "\u001b[1m> Finished chain.\u001b[0m\n",
      "\n",
      "Response:\n",
      "\n",
      "• India won the ICC Champions Trophy in 2025.\n",
      "• They have also won the ICC T20 World Cup twice, in 2007 and 2024.\n",
      "• India has also won the Twenty20 Asia Cup in 2016 and a gold medal at the Asian Games in 2022.\n"
     ]
    },
    {
     "data": {
      "text/plain": [
       "{'configurable': {'thread_id': '001', 'thread_ts': 'checkpoint_002'}}"
      ]
     },
     "execution_count": 115,
     "metadata": {},
     "output_type": "execute_result"
    }
   ],
   "source": [
    "from langchain_groq import ChatGroq\n",
    "from langchain.agents import Tool, load_tools\n",
    "from langchain.agents.agent_types import AgentType\n",
    "from langgraph.checkpoint.memory import MemorySaver\n",
    "from langgraph.prebuilt import create_react_agent\n",
    "from langchain_core.messages import HumanMessage,AIMessage\n",
    "import os\n",
    "import os\n",
    "\n",
    "\n",
    "\n",
    "# Step 3: Setup memory\n",
    "memory = MemorySaver()\n",
    "thread_id = \"001\"  # Unique session/thread ID\n",
    "\n",
    "# Step 4: Simulate initial conversation in memory (now includes 'id' key)\n",
    "initial_checkpoint = {\n",
    "    \"id\": \"checkpoint_001\",  # <-- REQUIRED ID\n",
    "    \"messages\": [\n",
    "        HumanMessage(content=\"Who won Champions Trophy 2025 final?\"),\n",
    "        AIMessage(content=\"India won the 2025 Champions Trophy final by defeating England.\")\n",
    "    ]\n",
    "}\n",
    "\n",
    "# Save initial memory\n",
    "memory.put(\n",
    "    config={\"configurable\": {\"thread_id\": thread_id}},\n",
    "    checkpoint=initial_checkpoint,\n",
    "    metadata={}\n",
    ")\n",
    "\n",
    "# Step 5: Initialize agent\n",
    "agent = initialize_agent(\n",
    "    tools=tools,\n",
    "    llm=llm,\n",
    "    agent=AgentType.ZERO_SHOT_REACT_DESCRIPTION,\n",
    "    verbose=True,\n",
    "    handle_parsing_errors=True\n",
    ")\n",
    "\n",
    "# Step 6: Fetch memory checkpoint\n",
    "checkpoint = memory.get(config={\"configurable\": {\"thread_id\": thread_id}})\n",
    "context = \"\"\n",
    "if checkpoint and \"messages\" in checkpoint:\n",
    "    context = \"\\n\".join([f\"{type(msg).__name__}: {msg.content}\" for msg in checkpoint[\"messages\"]])\n",
    "\n",
    "# Step 7: Ask new user query\n",
    "user_query = input(\"Enter your query: \")\n",
    "\n",
    "# Step 8: Format the query for bullet-point style response\n",
    "formatted_query = (\n",
    "    f\"Conversation so far:\\n{context}\\n\\n\"\n",
    "    f\"Now user asked: {user_query}\\n\"\n",
    "    \"Respond in bullet points (• or -), keep it concise and under ~150 words.\"\n",
    ")\n",
    "\n",
    "# Step 9: Get agent response\n",
    "response = agent.run(formatted_query)\n",
    "print(\"\\nResponse:\\n\")\n",
    "print(response)\n",
    "\n",
    "# Step 10: Save updated memory\n",
    "updated_checkpoint = {\n",
    "    \"id\": \"checkpoint_002\",  # New unique ID for new checkpoint\n",
    "    \"messages\": checkpoint[\"messages\"] + [\n",
    "        HumanMessage(content=user_query),\n",
    "        AIMessage(content=response)\n",
    "    ]\n",
    "}\n",
    "\n",
    "memory.put(\n",
    "    config={\"configurable\": {\"thread_id\": thread_id}},\n",
    "    checkpoint=updated_checkpoint,\n",
    "    metadata={}\n",
    ")"
   ]
  },
  {
   "cell_type": "code",
   "execution_count": null,
   "metadata": {},
   "outputs": [],
   "source": []
  }
 ],
 "metadata": {
  "kernelspec": {
   "display_name": "agentdemo",
   "language": "python",
   "name": "python3"
  },
  "language_info": {
   "codemirror_mode": {
    "name": "ipython",
    "version": 3
   },
   "file_extension": ".py",
   "mimetype": "text/x-python",
   "name": "python",
   "nbconvert_exporter": "python",
   "pygments_lexer": "ipython3",
   "version": "3.11.11"
  }
 },
 "nbformat": 4,
 "nbformat_minor": 2
}
